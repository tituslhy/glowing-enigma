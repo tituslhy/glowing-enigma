{
 "cells": [
  {
   "cell_type": "code",
   "execution_count": 1,
   "id": "33e11ea3",
   "metadata": {},
   "outputs": [],
   "source": [
    "%load_ext autoreload\n",
    "%autoreload 2"
   ]
  },
  {
   "cell_type": "code",
   "execution_count": null,
   "id": "23016f62",
   "metadata": {},
   "outputs": [],
   "source": [
    "from dotenv import load_dotenv, find_dotenv\n",
    "\n",
    "_ = load_dotenv(find_dotenv())"
   ]
  },
  {
   "cell_type": "code",
   "execution_count": 3,
   "id": "a2c0719c",
   "metadata": {},
   "outputs": [],
   "source": [
    "URL = \"neo4j://localhost:7687\"\n",
    "USERNAME = \"neo4j\"\n",
    "PASSWORD = \"llamaindex\""
   ]
  },
  {
   "cell_type": "code",
   "execution_count": 4,
   "id": "b7526e98",
   "metadata": {},
   "outputs": [],
   "source": [
    "config = {\n",
    "    \"llm\": {\n",
    "        \"provider\": \"openai\",\n",
    "        \"config\": {\n",
    "            \"model\": \"gpt-4o-mini\",\n",
    "            \"temperature\": 0.2,\n",
    "            \"max_tokens\": 2000,\n",
    "        }\n",
    "    },\n",
    "    \"embedder\": {\n",
    "        \"provider\": \"ollama\",\n",
    "        \"config\": {\n",
    "            \"model\": \"nomic-embed-text\",\n",
    "            \"embedding_dims\": 768\n",
    "        }\n",
    "    },\n",
    "    \"graph_store\": {\n",
    "        \"provider\": \"neo4j\",\n",
    "        \"config\": {\n",
    "            \"url\": URL,\n",
    "            \"username\": USERNAME,\n",
    "            \"password\": PASSWORD,\n",
    "        }\n",
    "    }\n",
    "}"
   ]
  },
  {
   "cell_type": "code",
   "execution_count": 5,
   "id": "e63f2e1b",
   "metadata": {},
   "outputs": [],
   "source": [
    "from mem0 import Memory\n",
    "\n",
    "m = Memory.from_config(config_dict=config)"
   ]
  },
  {
   "cell_type": "markdown",
   "id": "8b861b81",
   "metadata": {},
   "source": [
    "## Graph Visualization Utillity Functions"
   ]
  },
  {
   "cell_type": "code",
   "execution_count": 6,
   "id": "a69a62e3",
   "metadata": {},
   "outputs": [],
   "source": [
    "from neo4j import GraphDatabase\n",
    "import networkx as nx\n",
    "import matplotlib.pyplot as plt\n",
    "from matplotlib.patches import ArrowStyle\n",
    "from netgraph import Graph as ngGraph\n",
    "\n",
    "def display_graph():\n",
    "    # Neo4j connection configuration\n",
    "    uri = URL\n",
    "    username = USERNAME\n",
    "    password = PASSWORD\n",
    "\n",
    "    # Connect to Neo4j\n",
    "    driver = GraphDatabase.driver(uri, auth=(username, password))\n",
    "\n",
    "    # Updated query to return node names\n",
    "    query = \"\"\"\n",
    "    MATCH (n)\n",
    "    OPTIONAL MATCH (n)-[r]->(m)\n",
    "    RETURN n.name AS source_name, type(r) AS relationship_type, m.name AS target_name\n",
    "    \"\"\"\n",
    "\n",
    "    # Function to execute the query and process results\n",
    "    def get_graph_data(tx):\n",
    "        result = tx.run(query)\n",
    "        nodes = set()\n",
    "        edges = []\n",
    "        for record in result:\n",
    "            source_name = record[\"source_name\"]\n",
    "            target_name = record[\"target_name\"]\n",
    "            relationship = record[\"relationship_type\"]\n",
    "\n",
    "            if source_name:\n",
    "                nodes.add(source_name)\n",
    "            if target_name:\n",
    "                nodes.add(target_name)\n",
    "                edges.append((source_name, target_name, relationship))\n",
    "\n",
    "        return list(nodes), edges\n",
    "\n",
    "    # Execute the query and get results\n",
    "    with driver.session() as session:\n",
    "        nodes, edges = session.execute_read(get_graph_data)\n",
    "\n",
    "    # Create a NetworkX directed graph\n",
    "    G = nx.DiGraph()\n",
    "\n",
    "    # Add nodes and edges to the graph\n",
    "    G.add_nodes_from(nodes)\n",
    "    G.add_edges_from([(source, target, {'type': rel_type}) for source, target, rel_type in edges])\n",
    "\n",
    "    # Set up the plot\n",
    "    fig, ax = plt.subplots(figsize=(15, 12))\n",
    "    plt.subplots_adjust(left=0, right=1, top=1, bottom=0)\n",
    "\n",
    "    # Use netgraph for layout and drawing\n",
    "    try:\n",
    "        plot_instance = ngGraph(G, node_layout='spring', node_size=5, node_color='lightblue',\n",
    "                        edge_width=0.4, edge_alpha=1, edge_color='black',\n",
    "                        node_labels=True, edge_labels=nx.get_edge_attributes(G, 'type'),\n",
    "                        arrows=True, ax=ax, arrowsize=1,\n",
    "                        edge_arrow_width=0.5,\n",
    "                        node_label_fontdict={'size': 12})\n",
    "    except:\n",
    "        plt.clf()\n",
    "        plt.close(fig)\n",
    "        ax.clear()\n",
    "        plt.close('all')\n",
    "        return \"Nothing to Plot, add memories\"\n",
    "\n",
    "    plt.title(\"Mem0 Graph Memory Visualization\", fontsize=20)\n",
    "\n",
    "    # Enable zoom and pan\n",
    "    def zoom_factory(ax, base_scale=2.):\n",
    "        def zoom_fun(event):\n",
    "            cur_xlim = ax.get_xlim()\n",
    "            cur_ylim = ax.get_ylim()\n",
    "            xdata = event.xdata\n",
    "            ydata = event.ydata\n",
    "            if event.button == 'up':\n",
    "                scale_factor = 1/base_scale\n",
    "            elif event.button == 'down':\n",
    "                scale_factor = base_scale\n",
    "            else:\n",
    "                scale_factor = 1\n",
    "            new_width = (cur_xlim[1] - cur_xlim[0]) * scale_factor\n",
    "            new_height = (cur_ylim[1] - cur_ylim[0]) * scale_factor\n",
    "            relx = (cur_xlim[1] - xdata)/(cur_xlim[1] - cur_xlim[0])\n",
    "            rely = (cur_ylim[1] - ydata)/(cur_ylim[1] - cur_ylim[0])\n",
    "            ax.set_xlim([xdata - new_width * (1-relx), xdata + new_width * (relx)])\n",
    "            ax.set_ylim([ydata - new_height * (1-rely), ydata + new_height * (rely)])\n",
    "            plt.draw()\n",
    "        fig = ax.get_figure()\n",
    "        fig.canvas.mpl_connect('scroll_event', zoom_fun)\n",
    "        return zoom_fun\n",
    "\n",
    "    zoom = zoom_factory(ax)\n",
    "\n",
    "    def on_press(event):\n",
    "        if event.inaxes != ax: return\n",
    "        ax._pan_start = (event.x, event.y)\n",
    "\n",
    "    def on_release(event):\n",
    "        if event.inaxes != ax: return\n",
    "        ax._pan_start = None\n",
    "\n",
    "    def on_motion(event):\n",
    "        if event.inaxes != ax: return\n",
    "        if not ax._pan_start: return\n",
    "        dx = event.x - ax._pan_start[0]\n",
    "        dy = event.y - ax._pan_start[1]\n",
    "        xlim = ax.get_xlim()\n",
    "        ylim = ax.get_ylim()\n",
    "        scale_x = (xlim[1] - xlim[0]) / ax.get_window_extent().width\n",
    "        scale_y = (ylim[1] - ylim[0]) / ax.get_window_extent().height\n",
    "        ax.set_xlim(xlim - dx * scale_x)\n",
    "        ax.set_ylim(ylim + dy * scale_y)\n",
    "        ax._pan_start = (event.x, event.y)\n",
    "        plt.draw()\n",
    "\n",
    "    fig.canvas.mpl_connect('button_press_event', on_press)\n",
    "    fig.canvas.mpl_connect('button_release_event', on_release)\n",
    "    fig.canvas.mpl_connect('motion_notify_event', on_motion)\n",
    "\n",
    "    plt.show()\n",
    "\n",
    "    # Close the driver connection\n",
    "    driver.close()"
   ]
  },
  {
   "cell_type": "code",
   "execution_count": 7,
   "id": "9e04b870",
   "metadata": {},
   "outputs": [],
   "source": [
    "user_id=\"titus123\""
   ]
  },
  {
   "cell_type": "markdown",
   "id": "1c65b6ce",
   "metadata": {},
   "source": [
    "### Clear Graph (Optional)"
   ]
  },
  {
   "cell_type": "code",
   "execution_count": 8,
   "id": "2874312f",
   "metadata": {},
   "outputs": [
    {
     "data": {
      "text/plain": [
       "{'message': 'Memories deleted successfully!'}"
      ]
     },
     "execution_count": 8,
     "metadata": {},
     "output_type": "execute_result"
    }
   ],
   "source": [
    "m.delete_all(user_id=user_id)"
   ]
  },
  {
   "cell_type": "markdown",
   "id": "157329ec",
   "metadata": {},
   "source": [
    "### Add memory"
   ]
  },
  {
   "cell_type": "code",
   "execution_count": 10,
   "id": "65fed2a5",
   "metadata": {},
   "outputs": [
    {
     "data": {
      "image/png": "[encoded data removed]",
      "text/plain": [
       "<Figure size 1500x1200 with 1 Axes>"
      ]
     },
     "metadata": {},
     "output_type": "display_data"
    },
    {
     "data": {
      "text/plain": [
       "({'results': [{'id': 'ea61ec71-c93e-4760-a9e9-889908afdd1f',\n",
       "    'memory': 'Is a Data Scientist',\n",
       "    'event': 'ADD'}],\n",
       "  'relations': {'deleted_entities': [],\n",
       "   'added_entities': [[{'source': 'titus123',\n",
       "      'relationship': 'is',\n",
       "      'target': 'data_scientist'}]]}},\n",
       " None)"
      ]
     },
     "execution_count": 10,
     "metadata": {},
     "output_type": "execute_result"
    }
   ],
   "source": [
    "m.add(\"I am a data scientist!\", user_id=user_id), display_graph()"
   ]
  },
  {
   "cell_type": "code",
   "execution_count": null,
   "id": "f2773f9f",
   "metadata": {},
   "outputs": [],
   "source": []
  }
 ],
 "metadata": {
  "kernelspec": {
   "display_name": ".venv",
   "language": "python",
   "name": "python3"
  },
  "language_info": {
   "codemirror_mode": {
    "name": "ipython",
    "version": 3
   },
   "file_extension": ".py",
   "mimetype": "text/x-python",
   "name": "python",
   "nbconvert_exporter": "python",
   "pygments_lexer": "ipython3",
   "version": "3.12.5"
  }
 },
 "nbformat": 4,
 "nbformat_minor": 5
}
